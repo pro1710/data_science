{
 "cells": [
  {
   "cell_type": "code",
   "execution_count": 10,
   "metadata": {
    "collapsed": true
   },
   "outputs": [],
   "source": [
    "from sklearn import datasets, cross_validation, naive_bayes\n",
    "\n",
    "import numpy as np"
   ]
  },
  {
   "cell_type": "code",
   "execution_count": 2,
   "metadata": {
    "collapsed": true
   },
   "outputs": [],
   "source": [
    "digits = datasets.load_digits()\n",
    "breast_cancer = datasets.load_breast_cancer()"
   ]
  },
  {
   "cell_type": "code",
   "execution_count": 15,
   "metadata": {
    "collapsed": false
   },
   "outputs": [],
   "source": [
    "def print_result(classifier, dataset, name):\n",
    "    print(name,\n",
    "          cross_validation.cross_val_score(classifier, dataset.data, dataset.target).mean())"
   ]
  },
  {
   "cell_type": "code",
   "execution_count": 19,
   "metadata": {
    "collapsed": false
   },
   "outputs": [
    {
     "name": "stdout",
     "output_type": "stream",
     "text": [
      "bernoulli_nb(digits) 0.825823650778\n",
      "multinomial_nb(digits) 0.870877148974\n",
      "gaussian_nb(digits) 0.818600380355\n",
      "\n",
      "bernoulli_nb(breast_cancer) 0.627420402859\n",
      "multinomial_nb(breast_cancer) 0.894579040193\n",
      "gaussian_nb(breast_cancer) 0.936749280609\n"
     ]
    }
   ],
   "source": [
    "bernoulli_nb = naive_bayes.BernoulliNB()\n",
    "multinomial_nb = naive_bayes.MultinomialNB()\n",
    "gaussian_nb = naive_bayes.GaussianNB()\n",
    "\n",
    "print_result(bernoulli_nb, digits, \"bernoulli_nb(digits)\")\n",
    "print_result(multinomial_nb, digits, \"multinomial_nb(digits)\")\n",
    "print_result(gaussian_nb, digits, \"gaussian_nb(digits)\")\n",
    "print()\n",
    "print_result(bernoulli_nb, breast_cancer, \"bernoulli_nb(breast_cancer)\")\n",
    "print_result(multinomial_nb, breast_cancer, \"multinomial_nb(breast_cancer)\")\n",
    "print_result(gaussian_nb, breast_cancer, \"gaussian_nb(breast_cancer)\")"
   ]
  },
  {
   "cell_type": "code",
   "execution_count": null,
   "metadata": {
    "collapsed": true
   },
   "outputs": [],
   "source": []
  }
 ],
 "metadata": {
  "kernelspec": {
   "display_name": "Python [default]",
   "language": "python",
   "name": "python3"
  },
  "language_info": {
   "codemirror_mode": {
    "name": "ipython",
    "version": 3
   },
   "file_extension": ".py",
   "mimetype": "text/x-python",
   "name": "python",
   "nbconvert_exporter": "python",
   "pygments_lexer": "ipython3",
   "version": "3.5.2"
  }
 },
 "nbformat": 4,
 "nbformat_minor": 1
}
