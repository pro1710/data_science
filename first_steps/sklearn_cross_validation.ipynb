{
 "cells": [
  {
   "cell_type": "code",
   "execution_count": 1,
   "metadata": {
    "collapsed": true
   },
   "outputs": [],
   "source": [
    "from sklearn import cross_validation, datasets\n",
    "\n",
    "import numpy as np"
   ]
  },
  {
   "cell_type": "code",
   "execution_count": 2,
   "metadata": {
    "collapsed": true
   },
   "outputs": [],
   "source": [
    "iris = datasets.load_iris()"
   ]
  },
  {
   "cell_type": "code",
   "execution_count": 3,
   "metadata": {
    "collapsed": true
   },
   "outputs": [],
   "source": [
    "train_data, test_data, train_labels, test_labels = \\\n",
    "cross_validation.train_test_split(iris.data, iris.target, test_size=0.3)"
   ]
  },
  {
   "cell_type": "code",
   "execution_count": 4,
   "metadata": {
    "collapsed": false
   },
   "outputs": [
    {
     "name": "stdout",
     "output_type": "stream",
     "text": [
      "0.3\n"
     ]
    }
   ],
   "source": [
    "print(len(test_data)/len(iris.data))"
   ]
  },
  {
   "cell_type": "code",
   "execution_count": 5,
   "metadata": {
    "collapsed": false
   },
   "outputs": [
    {
     "name": "stdout",
     "output_type": "stream",
     "text": [
      "train_data size: 105\n",
      "test_data size: 45\n"
     ]
    }
   ],
   "source": [
    "print('train_data size: {}\\ntest_data size: {}'.format(len(train_data), len(test_data)))"
   ]
  },
  {
   "cell_type": "code",
   "execution_count": 7,
   "metadata": {
    "collapsed": false
   },
   "outputs": [
    {
     "name": "stdout",
     "output_type": "stream",
     "text": [
      "train_data:\n",
      "[[ 5.2  4.1  1.5  0.1]\n",
      " [ 5.   3.6  1.4  0.2]\n",
      " [ 6.7  3.1  5.6  2.4]\n",
      " [ 6.4  2.9  4.3  1.3]\n",
      " [ 6.1  2.8  4.7  1.2]]\n",
      "test_data:\n",
      "[[ 5.5  3.5  1.3  0.2]\n",
      " [ 5.5  2.4  3.8  1.1]\n",
      " [ 6.7  3.3  5.7  2.5]\n",
      " [ 5.1  3.7  1.5  0.4]\n",
      " [ 7.3  2.9  6.3  1.8]]\n"
     ]
    }
   ],
   "source": [
    "print('train_data:\\n{}\\ntest_data:\\n{}'.format(train_data[:5], test_data[:5]))"
   ]
  },
  {
   "cell_type": "code",
   "execution_count": 8,
   "metadata": {
    "collapsed": false
   },
   "outputs": [
    {
     "name": "stdout",
     "output_type": "stream",
     "text": [
      "train_labels:\n",
      "[0 0 2 1 1]\n",
      "test_labels:\n",
      "[0 1 2 0 2]\n"
     ]
    }
   ],
   "source": [
    "print('train_labels:\\n{}\\ntest_labels:\\n{}'.format(train_labels[:5], test_labels[:5]))"
   ]
  },
  {
   "cell_type": "markdown",
   "metadata": {},
   "source": [
    "# Kfold"
   ]
  },
  {
   "cell_type": "code",
   "execution_count": 10,
   "metadata": {
    "collapsed": false
   },
   "outputs": [
    {
     "name": "stdout",
     "output_type": "stream",
     "text": [
      "[2 3 4 5 6 7 8 9] [0 1]\n",
      "[0 1 4 5 6 7 8 9] [2 3]\n",
      "[0 1 2 3 6 7 8 9] [4 5]\n",
      "[0 1 2 3 4 5 8 9] [6 7]\n",
      "[0 1 2 3 4 5 6 7] [8 9]\n"
     ]
    }
   ],
   "source": [
    "for train_indices, test_indices in cross_validation.KFold(10, n_folds=5):\n",
    "    print(train_indices, test_indices)"
   ]
  },
  {
   "cell_type": "code",
   "execution_count": 13,
   "metadata": {
    "collapsed": false
   },
   "outputs": [
    {
     "name": "stdout",
     "output_type": "stream",
     "text": [
      "[2 3 4 7 9] [0 1 5 6 8]\n",
      "[0 1 5 6 8] [2 3 4 7 9]\n"
     ]
    }
   ],
   "source": [
    "for train_indices, test_indices in cross_validation.KFold(10, n_folds=2, shuffle=True):\n",
    "    print(train_indices, test_indices)"
   ]
  },
  {
   "cell_type": "code",
   "execution_count": 12,
   "metadata": {
    "collapsed": false
   },
   "outputs": [
    {
     "name": "stdout",
     "output_type": "stream",
     "text": [
      "[1 3 5 7 8] [0 2 4 6 9]\n",
      "[0 2 4 6 9] [1 3 5 7 8]\n"
     ]
    }
   ],
   "source": [
    "for train_indices, test_indices in cross_validation.KFold(10, n_folds=2, \n",
    "                                                          shuffle=True, random_state=1):\n",
    "    print(train_indices, test_indices)"
   ]
  },
  {
   "cell_type": "markdown",
   "metadata": {},
   "source": [
    "# StratifiedKFold"
   ]
  },
  {
   "cell_type": "code",
   "execution_count": 15,
   "metadata": {
    "collapsed": false
   },
   "outputs": [
    {
     "name": "stdout",
     "output_type": "stream",
     "text": [
      "[0 0 0 0 0 1 1 1 1 1]\n",
      "[3 4 8 9] [0 1 2 5 6 7]\n",
      "[0 1 2 5 6 7] [3 4 8 9]\n"
     ]
    }
   ],
   "source": [
    "target = np.array([0]*5 + [1]*5)\n",
    "print(target)\n",
    "\n",
    "for train_indices, test_indices in cross_validation.StratifiedKFold(target, \n",
    "                                                                    n_folds=2, \n",
    "                                                                    shuffle=True,\n",
    "                                                                   random_state=0):\n",
    "    print(train_indices, test_indices)"
   ]
  },
  {
   "cell_type": "code",
   "execution_count": 16,
   "metadata": {
    "collapsed": false
   },
   "outputs": [
    {
     "name": "stdout",
     "output_type": "stream",
     "text": [
      "[0 1 0 1 0 1 0 1 0 1]\n",
      "[6 7 8 9] [0 1 2 3 4 5]\n",
      "[0 1 2 3 4 5] [6 7 8 9]\n"
     ]
    }
   ],
   "source": [
    "target = np.array([0, 1]*5)\n",
    "print(target)\n",
    "\n",
    "for train_indices, test_indices in cross_validation.StratifiedKFold(target, \n",
    "                                                                    n_folds=2, \n",
    "                                                                    shuffle=True,\n",
    "                                                                   random_state=0):\n",
    "    print(train_indices, test_indices)"
   ]
  },
  {
   "cell_type": "markdown",
   "metadata": {},
   "source": [
    "# ShuffleSplit"
   ]
  },
  {
   "cell_type": "code",
   "execution_count": 17,
   "metadata": {
    "collapsed": false
   },
   "outputs": [
    {
     "name": "stdout",
     "output_type": "stream",
     "text": [
      "[0 2 4 3 9 7 6 5] [1 8]\n",
      "[2 8 6 5 1 7 4 0] [9 3]\n",
      "[1 5 9 6 0 3 8 4] [7 2]\n",
      "[5 2 3 9 6 4 0 7] [1 8]\n",
      "[5 7 1 2 0 8 6 9] [3 4]\n",
      "[1 3 5 0 2 9 7 8] [4 6]\n",
      "[4 9 7 2 0 3 1 8] [6 5]\n",
      "[9 0 1 7 2 4 3 6] [5 8]\n",
      "[0 9 5 6 7 2 4 8] [1 3]\n",
      "[2 8 1 3 7 0 6 5] [4 9]\n"
     ]
    }
   ],
   "source": [
    "for train_indices, test_indices in cross_validation.ShuffleSplit(10, \n",
    "                                                                 n_iter=10, \n",
    "                                                                 test_size=0.2):\n",
    "    print(train_indices, test_indices)"
   ]
  },
  {
   "cell_type": "markdown",
   "metadata": {},
   "source": [
    "# StratifiedShuffleSplit"
   ]
  },
  {
   "cell_type": "code",
   "execution_count": 19,
   "metadata": {
    "collapsed": false
   },
   "outputs": [
    {
     "name": "stdout",
     "output_type": "stream",
     "text": [
      "[0 0 0 0 0 1 1 1 1 1]\n",
      "[8 6 4 5 7 3 2 0] [9 1]\n",
      "[2 4 5 0 3 7 8 9] [1 6]\n",
      "[3 8 6 2 7 0 5 4] [9 1]\n",
      "[8 3 0 1 4 6 7 5] [2 9]\n"
     ]
    }
   ],
   "source": [
    "target = np.array([0]*5 + [1]*5)\n",
    "print(target)\n",
    "for train_indices, test_indices in cross_validation.StratifiedShuffleSplit(target, \n",
    "                                                                 n_iter=4, \n",
    "                                                                 test_size=0.2):\n",
    "    print(train_indices, test_indices)"
   ]
  },
  {
   "cell_type": "markdown",
   "metadata": {},
   "source": [
    "# Leave_one_Out"
   ]
  },
  {
   "cell_type": "code",
   "execution_count": 20,
   "metadata": {
    "collapsed": false
   },
   "outputs": [
    {
     "name": "stdout",
     "output_type": "stream",
     "text": [
      "[1 2 3 4 5 6 7 8 9] [0]\n",
      "[0 2 3 4 5 6 7 8 9] [1]\n",
      "[0 1 3 4 5 6 7 8 9] [2]\n",
      "[0 1 2 4 5 6 7 8 9] [3]\n",
      "[0 1 2 3 5 6 7 8 9] [4]\n",
      "[0 1 2 3 4 6 7 8 9] [5]\n",
      "[0 1 2 3 4 5 7 8 9] [6]\n",
      "[0 1 2 3 4 5 6 8 9] [7]\n",
      "[0 1 2 3 4 5 6 7 9] [8]\n",
      "[0 1 2 3 4 5 6 7 8] [9]\n"
     ]
    }
   ],
   "source": [
    "for train_indices, test_indices in cross_validation.LeaveOneOut(10):\n",
    "    print(train_indices, test_indices)"
   ]
  }
 ],
 "metadata": {
  "anaconda-cloud": {},
  "kernelspec": {
   "display_name": "Python [conda root]",
   "language": "python",
   "name": "conda-root-py"
  },
  "language_info": {
   "codemirror_mode": {
    "name": "ipython",
    "version": 3
   },
   "file_extension": ".py",
   "mimetype": "text/x-python",
   "name": "python",
   "nbconvert_exporter": "python",
   "pygments_lexer": "ipython3",
   "version": "3.5.2"
  }
 },
 "nbformat": 4,
 "nbformat_minor": 0
}
